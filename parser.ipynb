{
 "cells": [
  {
   "cell_type": "code",
   "execution_count": 208,
   "id": "01a95f2e",
   "metadata": {},
   "outputs": [],
   "source": [
    "import requests  \n",
    "from bs4 import BeautifulSoup\n",
    "from datetime import datetime\n",
    "from time import sleep\n",
    "import pandas as pd\n",
    "import fake_useragent\n",
    "from fake_useragent import UserAgent\n",
    "import random\n",
    "from tqdm import tqdm"
   ]
  },
  {
   "cell_type": "markdown",
   "id": "3fd21c79",
   "metadata": {},
   "source": [
    "## Парсинг сайта ##"
   ]
  },
  {
   "cell_type": "code",
   "execution_count": 108,
   "id": "bd118148",
   "metadata": {},
   "outputs": [],
   "source": [
    "cars_data = pd.DataFrame()"
   ]
  },
  {
   "cell_type": "code",
   "execution_count": 109,
   "id": "1a0ac5b9",
   "metadata": {},
   "outputs": [
    {
     "name": "stderr",
     "output_type": "stream",
     "text": [
      "100%|██████████████████████████████████████████████████████████████████████████████████| 38/38 [03:42<00:00,  5.87s/it]\n",
      "100%|██████████████████████████████████████████████████████████████████████████████████| 38/38 [03:56<00:00,  6.23s/it]\n",
      "100%|██████████████████████████████████████████████████████████████████████████████████| 38/38 [03:47<00:00,  5.99s/it]\n",
      "100%|██████████████████████████████████████████████████████████████████████████████████| 38/38 [04:01<00:00,  6.36s/it]\n",
      "100%|██████████████████████████████████████████████████████████████████████████████████| 38/38 [04:01<00:00,  6.35s/it]\n",
      "100%|██████████████████████████████████████████████████████████████████████████████████| 38/38 [03:57<00:00,  6.26s/it]\n",
      "100%|██████████████████████████████████████████████████████████████████████████████████| 38/38 [03:54<00:00,  6.17s/it]\n",
      "100%|██████████████████████████████████████████████████████████████████████████████████| 38/38 [03:44<00:00,  5.90s/it]\n",
      "100%|██████████████████████████████████████████████████████████████████████████████████| 38/38 [03:52<00:00,  6.13s/it]\n",
      "100%|██████████████████████████████████████████████████████████████████████████████████| 38/38 [03:49<00:00,  6.04s/it]\n",
      "100%|██████████████████████████████████████████████████████████████████████████████████| 38/38 [03:51<00:00,  6.09s/it]\n",
      "100%|██████████████████████████████████████████████████████████████████████████████████| 38/38 [03:51<00:00,  6.10s/it]\n",
      "100%|██████████████████████████████████████████████████████████████████████████████████| 38/38 [04:02<00:00,  6.39s/it]\n",
      "100%|██████████████████████████████████████████████████████████████████████████████████| 38/38 [18:20<00:00, 28.95s/it]\n"
     ]
    },
    {
     "ename": "SSLError",
     "evalue": "HTTPSConnectionPool(host='auto.ru', port=443): Max retries exceeded with url: /moskva/cars/used/?page=15 (Caused by SSLError(SSLCertVerificationError(\"hostname 'auto.ru' doesn't match either of '*.beeline.ru', 'beeline.ru'\")))",
     "output_type": "error",
     "traceback": [
      "\u001b[1;31m---------------------------------------------------------------------------\u001b[0m",
      "\u001b[1;31mSSLCertVerificationError\u001b[0m                  Traceback (most recent call last)",
      "\u001b[1;32m~\\Anaconda3\\lib\\site-packages\\urllib3\\connectionpool.py\u001b[0m in \u001b[0;36murlopen\u001b[1;34m(self, method, url, body, headers, retries, redirect, assert_same_host, timeout, pool_timeout, release_conn, chunked, body_pos, **response_kw)\u001b[0m\n\u001b[0;32m    698\u001b[0m             \u001b[1;31m# Make the request on the httplib connection object.\u001b[0m\u001b[1;33m\u001b[0m\u001b[1;33m\u001b[0m\u001b[1;33m\u001b[0m\u001b[0m\n\u001b[1;32m--> 699\u001b[1;33m             httplib_response = self._make_request(\n\u001b[0m\u001b[0;32m    700\u001b[0m                 \u001b[0mconn\u001b[0m\u001b[1;33m,\u001b[0m\u001b[1;33m\u001b[0m\u001b[1;33m\u001b[0m\u001b[0m\n",
      "\u001b[1;32m~\\Anaconda3\\lib\\site-packages\\urllib3\\connectionpool.py\u001b[0m in \u001b[0;36m_make_request\u001b[1;34m(self, conn, method, url, timeout, chunked, **httplib_request_kw)\u001b[0m\n\u001b[0;32m    381\u001b[0m         \u001b[1;32mtry\u001b[0m\u001b[1;33m:\u001b[0m\u001b[1;33m\u001b[0m\u001b[1;33m\u001b[0m\u001b[0m\n\u001b[1;32m--> 382\u001b[1;33m             \u001b[0mself\u001b[0m\u001b[1;33m.\u001b[0m\u001b[0m_validate_conn\u001b[0m\u001b[1;33m(\u001b[0m\u001b[0mconn\u001b[0m\u001b[1;33m)\u001b[0m\u001b[1;33m\u001b[0m\u001b[1;33m\u001b[0m\u001b[0m\n\u001b[0m\u001b[0;32m    383\u001b[0m         \u001b[1;32mexcept\u001b[0m \u001b[1;33m(\u001b[0m\u001b[0mSocketTimeout\u001b[0m\u001b[1;33m,\u001b[0m \u001b[0mBaseSSLError\u001b[0m\u001b[1;33m)\u001b[0m \u001b[1;32mas\u001b[0m \u001b[0me\u001b[0m\u001b[1;33m:\u001b[0m\u001b[1;33m\u001b[0m\u001b[1;33m\u001b[0m\u001b[0m\n",
      "\u001b[1;32m~\\Anaconda3\\lib\\site-packages\\urllib3\\connectionpool.py\u001b[0m in \u001b[0;36m_validate_conn\u001b[1;34m(self, conn)\u001b[0m\n\u001b[0;32m   1009\u001b[0m         \u001b[1;32mif\u001b[0m \u001b[1;32mnot\u001b[0m \u001b[0mgetattr\u001b[0m\u001b[1;33m(\u001b[0m\u001b[0mconn\u001b[0m\u001b[1;33m,\u001b[0m \u001b[1;34m\"sock\"\u001b[0m\u001b[1;33m,\u001b[0m \u001b[1;32mNone\u001b[0m\u001b[1;33m)\u001b[0m\u001b[1;33m:\u001b[0m  \u001b[1;31m# AppEngine might not have  `.sock`\u001b[0m\u001b[1;33m\u001b[0m\u001b[1;33m\u001b[0m\u001b[0m\n\u001b[1;32m-> 1010\u001b[1;33m             \u001b[0mconn\u001b[0m\u001b[1;33m.\u001b[0m\u001b[0mconnect\u001b[0m\u001b[1;33m(\u001b[0m\u001b[1;33m)\u001b[0m\u001b[1;33m\u001b[0m\u001b[1;33m\u001b[0m\u001b[0m\n\u001b[0m\u001b[0;32m   1011\u001b[0m \u001b[1;33m\u001b[0m\u001b[0m\n",
      "\u001b[1;32m~\\Anaconda3\\lib\\site-packages\\urllib3\\connection.py\u001b[0m in \u001b[0;36mconnect\u001b[1;34m(self)\u001b[0m\n\u001b[0;32m    463\u001b[0m                 )\n\u001b[1;32m--> 464\u001b[1;33m             \u001b[0m_match_hostname\u001b[0m\u001b[1;33m(\u001b[0m\u001b[0mcert\u001b[0m\u001b[1;33m,\u001b[0m \u001b[0mself\u001b[0m\u001b[1;33m.\u001b[0m\u001b[0massert_hostname\u001b[0m \u001b[1;32mor\u001b[0m \u001b[0mserver_hostname\u001b[0m\u001b[1;33m)\u001b[0m\u001b[1;33m\u001b[0m\u001b[1;33m\u001b[0m\u001b[0m\n\u001b[0m\u001b[0;32m    465\u001b[0m \u001b[1;33m\u001b[0m\u001b[0m\n",
      "\u001b[1;32m~\\Anaconda3\\lib\\site-packages\\urllib3\\connection.py\u001b[0m in \u001b[0;36m_match_hostname\u001b[1;34m(cert, asserted_hostname)\u001b[0m\n\u001b[0;32m    511\u001b[0m     \u001b[1;32mtry\u001b[0m\u001b[1;33m:\u001b[0m\u001b[1;33m\u001b[0m\u001b[1;33m\u001b[0m\u001b[0m\n\u001b[1;32m--> 512\u001b[1;33m         \u001b[0mmatch_hostname\u001b[0m\u001b[1;33m(\u001b[0m\u001b[0mcert\u001b[0m\u001b[1;33m,\u001b[0m \u001b[0masserted_hostname\u001b[0m\u001b[1;33m)\u001b[0m\u001b[1;33m\u001b[0m\u001b[1;33m\u001b[0m\u001b[0m\n\u001b[0m\u001b[0;32m    513\u001b[0m     \u001b[1;32mexcept\u001b[0m \u001b[0mCertificateError\u001b[0m \u001b[1;32mas\u001b[0m \u001b[0me\u001b[0m\u001b[1;33m:\u001b[0m\u001b[1;33m\u001b[0m\u001b[1;33m\u001b[0m\u001b[0m\n",
      "\u001b[1;32m~\\Anaconda3\\lib\\ssl.py\u001b[0m in \u001b[0;36mmatch_hostname\u001b[1;34m(cert, hostname)\u001b[0m\n\u001b[0;32m    415\u001b[0m     \u001b[1;32mif\u001b[0m \u001b[0mlen\u001b[0m\u001b[1;33m(\u001b[0m\u001b[0mdnsnames\u001b[0m\u001b[1;33m)\u001b[0m \u001b[1;33m>\u001b[0m \u001b[1;36m1\u001b[0m\u001b[1;33m:\u001b[0m\u001b[1;33m\u001b[0m\u001b[1;33m\u001b[0m\u001b[0m\n\u001b[1;32m--> 416\u001b[1;33m         raise CertificateError(\"hostname %r \"\n\u001b[0m\u001b[0;32m    417\u001b[0m             \u001b[1;34m\"doesn't match either of %s\"\u001b[0m\u001b[1;33m\u001b[0m\u001b[1;33m\u001b[0m\u001b[0m\n",
      "\u001b[1;31mSSLCertVerificationError\u001b[0m: (\"hostname 'auto.ru' doesn't match either of '*.beeline.ru', 'beeline.ru'\",)",
      "\nDuring handling of the above exception, another exception occurred:\n",
      "\u001b[1;31mMaxRetryError\u001b[0m                             Traceback (most recent call last)",
      "\u001b[1;32m~\\Anaconda3\\lib\\site-packages\\requests\\adapters.py\u001b[0m in \u001b[0;36msend\u001b[1;34m(self, request, stream, timeout, verify, cert, proxies)\u001b[0m\n\u001b[0;32m    438\u001b[0m             \u001b[1;32mif\u001b[0m \u001b[1;32mnot\u001b[0m \u001b[0mchunked\u001b[0m\u001b[1;33m:\u001b[0m\u001b[1;33m\u001b[0m\u001b[1;33m\u001b[0m\u001b[0m\n\u001b[1;32m--> 439\u001b[1;33m                 resp = conn.urlopen(\n\u001b[0m\u001b[0;32m    440\u001b[0m                     \u001b[0mmethod\u001b[0m\u001b[1;33m=\u001b[0m\u001b[0mrequest\u001b[0m\u001b[1;33m.\u001b[0m\u001b[0mmethod\u001b[0m\u001b[1;33m,\u001b[0m\u001b[1;33m\u001b[0m\u001b[1;33m\u001b[0m\u001b[0m\n",
      "\u001b[1;32m~\\Anaconda3\\lib\\site-packages\\urllib3\\connectionpool.py\u001b[0m in \u001b[0;36murlopen\u001b[1;34m(self, method, url, body, headers, retries, redirect, assert_same_host, timeout, pool_timeout, release_conn, chunked, body_pos, **response_kw)\u001b[0m\n\u001b[0;32m    754\u001b[0m \u001b[1;33m\u001b[0m\u001b[0m\n\u001b[1;32m--> 755\u001b[1;33m             retries = retries.increment(\n\u001b[0m\u001b[0;32m    756\u001b[0m                 \u001b[0mmethod\u001b[0m\u001b[1;33m,\u001b[0m \u001b[0murl\u001b[0m\u001b[1;33m,\u001b[0m \u001b[0merror\u001b[0m\u001b[1;33m=\u001b[0m\u001b[0me\u001b[0m\u001b[1;33m,\u001b[0m \u001b[0m_pool\u001b[0m\u001b[1;33m=\u001b[0m\u001b[0mself\u001b[0m\u001b[1;33m,\u001b[0m \u001b[0m_stacktrace\u001b[0m\u001b[1;33m=\u001b[0m\u001b[0msys\u001b[0m\u001b[1;33m.\u001b[0m\u001b[0mexc_info\u001b[0m\u001b[1;33m(\u001b[0m\u001b[1;33m)\u001b[0m\u001b[1;33m[\u001b[0m\u001b[1;36m2\u001b[0m\u001b[1;33m]\u001b[0m\u001b[1;33m\u001b[0m\u001b[1;33m\u001b[0m\u001b[0m\n",
      "\u001b[1;32m~\\Anaconda3\\lib\\site-packages\\urllib3\\util\\retry.py\u001b[0m in \u001b[0;36mincrement\u001b[1;34m(self, method, url, response, error, _pool, _stacktrace)\u001b[0m\n\u001b[0;32m    573\u001b[0m         \u001b[1;32mif\u001b[0m \u001b[0mnew_retry\u001b[0m\u001b[1;33m.\u001b[0m\u001b[0mis_exhausted\u001b[0m\u001b[1;33m(\u001b[0m\u001b[1;33m)\u001b[0m\u001b[1;33m:\u001b[0m\u001b[1;33m\u001b[0m\u001b[1;33m\u001b[0m\u001b[0m\n\u001b[1;32m--> 574\u001b[1;33m             \u001b[1;32mraise\u001b[0m \u001b[0mMaxRetryError\u001b[0m\u001b[1;33m(\u001b[0m\u001b[0m_pool\u001b[0m\u001b[1;33m,\u001b[0m \u001b[0murl\u001b[0m\u001b[1;33m,\u001b[0m \u001b[0merror\u001b[0m \u001b[1;32mor\u001b[0m \u001b[0mResponseError\u001b[0m\u001b[1;33m(\u001b[0m\u001b[0mcause\u001b[0m\u001b[1;33m)\u001b[0m\u001b[1;33m)\u001b[0m\u001b[1;33m\u001b[0m\u001b[1;33m\u001b[0m\u001b[0m\n\u001b[0m\u001b[0;32m    575\u001b[0m \u001b[1;33m\u001b[0m\u001b[0m\n",
      "\u001b[1;31mMaxRetryError\u001b[0m: HTTPSConnectionPool(host='auto.ru', port=443): Max retries exceeded with url: /moskva/cars/used/?page=15 (Caused by SSLError(SSLCertVerificationError(\"hostname 'auto.ru' doesn't match either of '*.beeline.ru', 'beeline.ru'\")))",
      "\nDuring handling of the above exception, another exception occurred:\n",
      "\u001b[1;31mSSLError\u001b[0m                                  Traceback (most recent call last)",
      "\u001b[1;32m<ipython-input-109-367d4ad651ac>\u001b[0m in \u001b[0;36m<module>\u001b[1;34m\u001b[0m\n\u001b[0;32m      1\u001b[0m \u001b[1;32mfor\u001b[0m \u001b[0mpage\u001b[0m \u001b[1;32min\u001b[0m \u001b[0mrange\u001b[0m\u001b[1;33m(\u001b[0m\u001b[1;36m1\u001b[0m\u001b[1;33m,\u001b[0m \u001b[1;36m21\u001b[0m\u001b[1;33m)\u001b[0m\u001b[1;33m:\u001b[0m\u001b[1;33m\u001b[0m\u001b[1;33m\u001b[0m\u001b[0m\n\u001b[0;32m      2\u001b[0m     \u001b[0murl\u001b[0m \u001b[1;33m=\u001b[0m \u001b[1;34mf'https://auto.ru/moskva/cars/used/?page={page}'\u001b[0m\u001b[1;33m\u001b[0m\u001b[1;33m\u001b[0m\u001b[0m\n\u001b[1;32m----> 3\u001b[1;33m     \u001b[0mresponse\u001b[0m \u001b[1;33m=\u001b[0m \u001b[0mrequests\u001b[0m\u001b[1;33m.\u001b[0m\u001b[0mget\u001b[0m\u001b[1;33m(\u001b[0m\u001b[0murl\u001b[0m\u001b[1;33m,\u001b[0m \u001b[0mheaders\u001b[0m\u001b[1;33m=\u001b[0m\u001b[1;33m{\u001b[0m\u001b[1;34m'User-Agent'\u001b[0m\u001b[1;33m:\u001b[0m \u001b[0mUserAgent\u001b[0m\u001b[1;33m(\u001b[0m\u001b[1;33m)\u001b[0m\u001b[1;33m.\u001b[0m\u001b[0mchrome\u001b[0m\u001b[1;33m}\u001b[0m\u001b[1;33m)\u001b[0m\u001b[1;33m\u001b[0m\u001b[1;33m\u001b[0m\u001b[0m\n\u001b[0m\u001b[0;32m      4\u001b[0m     \u001b[0mcontent\u001b[0m \u001b[1;33m=\u001b[0m \u001b[0mBeautifulSoup\u001b[0m\u001b[1;33m(\u001b[0m\u001b[0mresponse\u001b[0m\u001b[1;33m.\u001b[0m\u001b[0mcontent\u001b[0m\u001b[1;33m,\u001b[0m \u001b[1;34m'html.parser'\u001b[0m\u001b[1;33m)\u001b[0m\u001b[1;33m\u001b[0m\u001b[1;33m\u001b[0m\u001b[0m\n\u001b[0;32m      5\u001b[0m     \u001b[0mcars\u001b[0m \u001b[1;33m=\u001b[0m \u001b[0mcontent\u001b[0m\u001b[1;33m.\u001b[0m\u001b[0mfind_all\u001b[0m\u001b[1;33m(\u001b[0m\u001b[1;34m'div'\u001b[0m\u001b[1;33m,\u001b[0m \u001b[1;33m{\u001b[0m\u001b[1;34m'class'\u001b[0m\u001b[1;33m:\u001b[0m \u001b[1;34m'ListingItem-module__description'\u001b[0m\u001b[1;33m}\u001b[0m\u001b[1;33m)\u001b[0m\u001b[1;33m\u001b[0m\u001b[1;33m\u001b[0m\u001b[0m\n",
      "\u001b[1;32m~\\Anaconda3\\lib\\site-packages\\requests\\api.py\u001b[0m in \u001b[0;36mget\u001b[1;34m(url, params, **kwargs)\u001b[0m\n\u001b[0;32m     74\u001b[0m \u001b[1;33m\u001b[0m\u001b[0m\n\u001b[0;32m     75\u001b[0m     \u001b[0mkwargs\u001b[0m\u001b[1;33m.\u001b[0m\u001b[0msetdefault\u001b[0m\u001b[1;33m(\u001b[0m\u001b[1;34m'allow_redirects'\u001b[0m\u001b[1;33m,\u001b[0m \u001b[1;32mTrue\u001b[0m\u001b[1;33m)\u001b[0m\u001b[1;33m\u001b[0m\u001b[1;33m\u001b[0m\u001b[0m\n\u001b[1;32m---> 76\u001b[1;33m     \u001b[1;32mreturn\u001b[0m \u001b[0mrequest\u001b[0m\u001b[1;33m(\u001b[0m\u001b[1;34m'get'\u001b[0m\u001b[1;33m,\u001b[0m \u001b[0murl\u001b[0m\u001b[1;33m,\u001b[0m \u001b[0mparams\u001b[0m\u001b[1;33m=\u001b[0m\u001b[0mparams\u001b[0m\u001b[1;33m,\u001b[0m \u001b[1;33m**\u001b[0m\u001b[0mkwargs\u001b[0m\u001b[1;33m)\u001b[0m\u001b[1;33m\u001b[0m\u001b[1;33m\u001b[0m\u001b[0m\n\u001b[0m\u001b[0;32m     77\u001b[0m \u001b[1;33m\u001b[0m\u001b[0m\n\u001b[0;32m     78\u001b[0m \u001b[1;33m\u001b[0m\u001b[0m\n",
      "\u001b[1;32m~\\Anaconda3\\lib\\site-packages\\requests\\api.py\u001b[0m in \u001b[0;36mrequest\u001b[1;34m(method, url, **kwargs)\u001b[0m\n\u001b[0;32m     59\u001b[0m     \u001b[1;31m# cases, and look like a memory leak in others.\u001b[0m\u001b[1;33m\u001b[0m\u001b[1;33m\u001b[0m\u001b[1;33m\u001b[0m\u001b[0m\n\u001b[0;32m     60\u001b[0m     \u001b[1;32mwith\u001b[0m \u001b[0msessions\u001b[0m\u001b[1;33m.\u001b[0m\u001b[0mSession\u001b[0m\u001b[1;33m(\u001b[0m\u001b[1;33m)\u001b[0m \u001b[1;32mas\u001b[0m \u001b[0msession\u001b[0m\u001b[1;33m:\u001b[0m\u001b[1;33m\u001b[0m\u001b[1;33m\u001b[0m\u001b[0m\n\u001b[1;32m---> 61\u001b[1;33m         \u001b[1;32mreturn\u001b[0m \u001b[0msession\u001b[0m\u001b[1;33m.\u001b[0m\u001b[0mrequest\u001b[0m\u001b[1;33m(\u001b[0m\u001b[0mmethod\u001b[0m\u001b[1;33m=\u001b[0m\u001b[0mmethod\u001b[0m\u001b[1;33m,\u001b[0m \u001b[0murl\u001b[0m\u001b[1;33m=\u001b[0m\u001b[0murl\u001b[0m\u001b[1;33m,\u001b[0m \u001b[1;33m**\u001b[0m\u001b[0mkwargs\u001b[0m\u001b[1;33m)\u001b[0m\u001b[1;33m\u001b[0m\u001b[1;33m\u001b[0m\u001b[0m\n\u001b[0m\u001b[0;32m     62\u001b[0m \u001b[1;33m\u001b[0m\u001b[0m\n\u001b[0;32m     63\u001b[0m \u001b[1;33m\u001b[0m\u001b[0m\n",
      "\u001b[1;32m~\\Anaconda3\\lib\\site-packages\\requests\\sessions.py\u001b[0m in \u001b[0;36mrequest\u001b[1;34m(self, method, url, params, data, headers, cookies, files, auth, timeout, allow_redirects, proxies, hooks, stream, verify, cert, json)\u001b[0m\n\u001b[0;32m    540\u001b[0m         }\n\u001b[0;32m    541\u001b[0m         \u001b[0msend_kwargs\u001b[0m\u001b[1;33m.\u001b[0m\u001b[0mupdate\u001b[0m\u001b[1;33m(\u001b[0m\u001b[0msettings\u001b[0m\u001b[1;33m)\u001b[0m\u001b[1;33m\u001b[0m\u001b[1;33m\u001b[0m\u001b[0m\n\u001b[1;32m--> 542\u001b[1;33m         \u001b[0mresp\u001b[0m \u001b[1;33m=\u001b[0m \u001b[0mself\u001b[0m\u001b[1;33m.\u001b[0m\u001b[0msend\u001b[0m\u001b[1;33m(\u001b[0m\u001b[0mprep\u001b[0m\u001b[1;33m,\u001b[0m \u001b[1;33m**\u001b[0m\u001b[0msend_kwargs\u001b[0m\u001b[1;33m)\u001b[0m\u001b[1;33m\u001b[0m\u001b[1;33m\u001b[0m\u001b[0m\n\u001b[0m\u001b[0;32m    543\u001b[0m \u001b[1;33m\u001b[0m\u001b[0m\n\u001b[0;32m    544\u001b[0m         \u001b[1;32mreturn\u001b[0m \u001b[0mresp\u001b[0m\u001b[1;33m\u001b[0m\u001b[1;33m\u001b[0m\u001b[0m\n",
      "\u001b[1;32m~\\Anaconda3\\lib\\site-packages\\requests\\sessions.py\u001b[0m in \u001b[0;36msend\u001b[1;34m(self, request, **kwargs)\u001b[0m\n\u001b[0;32m    653\u001b[0m \u001b[1;33m\u001b[0m\u001b[0m\n\u001b[0;32m    654\u001b[0m         \u001b[1;31m# Send the request\u001b[0m\u001b[1;33m\u001b[0m\u001b[1;33m\u001b[0m\u001b[1;33m\u001b[0m\u001b[0m\n\u001b[1;32m--> 655\u001b[1;33m         \u001b[0mr\u001b[0m \u001b[1;33m=\u001b[0m \u001b[0madapter\u001b[0m\u001b[1;33m.\u001b[0m\u001b[0msend\u001b[0m\u001b[1;33m(\u001b[0m\u001b[0mrequest\u001b[0m\u001b[1;33m,\u001b[0m \u001b[1;33m**\u001b[0m\u001b[0mkwargs\u001b[0m\u001b[1;33m)\u001b[0m\u001b[1;33m\u001b[0m\u001b[1;33m\u001b[0m\u001b[0m\n\u001b[0m\u001b[0;32m    656\u001b[0m \u001b[1;33m\u001b[0m\u001b[0m\n\u001b[0;32m    657\u001b[0m         \u001b[1;31m# Total elapsed time of the request (approximately)\u001b[0m\u001b[1;33m\u001b[0m\u001b[1;33m\u001b[0m\u001b[1;33m\u001b[0m\u001b[0m\n",
      "\u001b[1;32m~\\Anaconda3\\lib\\site-packages\\requests\\adapters.py\u001b[0m in \u001b[0;36msend\u001b[1;34m(self, request, stream, timeout, verify, cert, proxies)\u001b[0m\n\u001b[0;32m    512\u001b[0m             \u001b[1;32mif\u001b[0m \u001b[0misinstance\u001b[0m\u001b[1;33m(\u001b[0m\u001b[0me\u001b[0m\u001b[1;33m.\u001b[0m\u001b[0mreason\u001b[0m\u001b[1;33m,\u001b[0m \u001b[0m_SSLError\u001b[0m\u001b[1;33m)\u001b[0m\u001b[1;33m:\u001b[0m\u001b[1;33m\u001b[0m\u001b[1;33m\u001b[0m\u001b[0m\n\u001b[0;32m    513\u001b[0m                 \u001b[1;31m# This branch is for urllib3 v1.22 and later.\u001b[0m\u001b[1;33m\u001b[0m\u001b[1;33m\u001b[0m\u001b[1;33m\u001b[0m\u001b[0m\n\u001b[1;32m--> 514\u001b[1;33m                 \u001b[1;32mraise\u001b[0m \u001b[0mSSLError\u001b[0m\u001b[1;33m(\u001b[0m\u001b[0me\u001b[0m\u001b[1;33m,\u001b[0m \u001b[0mrequest\u001b[0m\u001b[1;33m=\u001b[0m\u001b[0mrequest\u001b[0m\u001b[1;33m)\u001b[0m\u001b[1;33m\u001b[0m\u001b[1;33m\u001b[0m\u001b[0m\n\u001b[0m\u001b[0;32m    515\u001b[0m \u001b[1;33m\u001b[0m\u001b[0m\n\u001b[0;32m    516\u001b[0m             \u001b[1;32mraise\u001b[0m \u001b[0mConnectionError\u001b[0m\u001b[1;33m(\u001b[0m\u001b[0me\u001b[0m\u001b[1;33m,\u001b[0m \u001b[0mrequest\u001b[0m\u001b[1;33m=\u001b[0m\u001b[0mrequest\u001b[0m\u001b[1;33m)\u001b[0m\u001b[1;33m\u001b[0m\u001b[1;33m\u001b[0m\u001b[0m\n",
      "\u001b[1;31mSSLError\u001b[0m: HTTPSConnectionPool(host='auto.ru', port=443): Max retries exceeded with url: /moskva/cars/used/?page=15 (Caused by SSLError(SSLCertVerificationError(\"hostname 'auto.ru' doesn't match either of '*.beeline.ru', 'beeline.ru'\")))"
     ]
    }
   ],
   "source": [
    "for page in range(1, 21): # Задаем число просматриваемых страниц с объявлениями\n",
    "    url = f'https://auto.ru/moskva/cars/used/?page={page}'\n",
    "    response = requests.get(url, headers={'User-Agent': UserAgent().chrome})\n",
    "    content = BeautifulSoup(response.content, 'html.parser')\n",
    "    cars = content.find_all('div', {'class': 'ListingItem-module__description'})\n",
    "    sleep(4.5 + random.random()) # Бездействуем, чтобы нас не забанили\n",
    "    for car in tqdm(cars):\n",
    "        try:\n",
    "            car_info = dict() # Формирем словарь и информацией об автомобиле\n",
    "            car_link = car.find('a', { 'class': ['Link', 'ListingItemTitle-module__link']}).get('href')\n",
    "            response = requests.get(car_link, headers={'User-Agent': UserAgent().chrome})\n",
    "            content = BeautifulSoup(response.content, 'html.parser')\n",
    "            car_info['Link'] = car_link\n",
    "            table = content.find_all('li', { 'class': 'CardInfoRow' })\n",
    "            car_info['Title'] = content.find('h1').text.replace('\\xa0', ' ')\n",
    "            car_info['Price'] = content.find('span', 'OfferPriceCaption__price').text.replace('\\xa0', ' ')\n",
    "            car_info['Mark'] = content.find('div', {'class': ['InfoPopup','InfoPopup_theme_plain','InfoPopup_withChildren','BreadcrumbsPopup-module__BreadcrumbsPopup']}).find('a', { 'class': ['Link','Link_color_gray','CardBreadcrumbs__itemText']}).text.replace('\\xa0', ' ')\n",
    "            car_info['Placement_date'] = content.find('div', { 'class' : ['lgkqdBtNZnmDcmU0rHpEj__info-item']}).text.replace('\\xa0', ' ')\n",
    "            car_info['Views'] = content.find('div', { 'class' : ['lgkqdBtNZnmDcmU0rHpEj__info-item','lgkqdBtNZnmDcmU0rHpEj__views'], 'title' : 'Количество просмотров'}).text.replace('\\xa0', ' ')\n",
    "            for raw in table: \n",
    "                car_info[raw.find_all('span')[0].text] = raw.find_all('span')[1].text.replace('\\xa0', ' ')\n",
    "            sleep(4.5 + random.random())\n",
    "            cars_data = cars_data.append(car_info, ignore_index=True) # Добавляем информацию об авто в датафрейм\n",
    "        except:\n",
    "            sleep(4.5 + random.random())\n",
    "            continue"
   ]
  },
  {
   "cell_type": "code",
   "execution_count": 112,
   "id": "0bdff27f",
   "metadata": {},
   "outputs": [
    {
     "data": {
      "text/plain": [
       "(360, 26)"
      ]
     },
     "execution_count": 112,
     "metadata": {},
     "output_type": "execute_result"
    }
   ],
   "source": [
    "cars_data.shape # Смотрим на число автомобилей и признаков"
   ]
  },
  {
   "cell_type": "code",
   "execution_count": 115,
   "id": "4d0ee120",
   "metadata": {},
   "outputs": [],
   "source": [
    "cars_data.to_csv('cars_data.csv', index=False, sep='\\t') # На всякий пожарный сохраняем в файл"
   ]
  },
  {
   "cell_type": "markdown",
   "id": "6bcc479c",
   "metadata": {},
   "source": [
    "## Обработка данных ##"
   ]
  },
  {
   "cell_type": "code",
   "execution_count": 440,
   "id": "873b13b7",
   "metadata": {},
   "outputs": [
    {
     "data": {
      "text/html": [
       "<div>\n",
       "<style scoped>\n",
       "    .dataframe tbody tr th:only-of-type {\n",
       "        vertical-align: middle;\n",
       "    }\n",
       "\n",
       "    .dataframe tbody tr th {\n",
       "        vertical-align: top;\n",
       "    }\n",
       "\n",
       "    .dataframe thead th {\n",
       "        text-align: right;\n",
       "    }\n",
       "</style>\n",
       "<table border=\"1\" class=\"dataframe\">\n",
       "  <thead>\n",
       "    <tr style=\"text-align: right;\">\n",
       "      <th></th>\n",
       "      <th>Link</th>\n",
       "      <th>Mark</th>\n",
       "      <th>Placement_date</th>\n",
       "      <th>Price</th>\n",
       "      <th>Title</th>\n",
       "      <th>VIN</th>\n",
       "      <th>Views</th>\n",
       "      <th>Владельцы</th>\n",
       "      <th>Госномер</th>\n",
       "      <th>Двигатель</th>\n",
       "      <th>...</th>\n",
       "      <th>Руль</th>\n",
       "      <th>Состояние</th>\n",
       "      <th>Таможня</th>\n",
       "      <th>Цвет</th>\n",
       "      <th>год выпуска</th>\n",
       "      <th>Владение</th>\n",
       "      <th>Кузов №</th>\n",
       "      <th>Обмен</th>\n",
       "      <th>Гарантия</th>\n",
       "      <th>Запас хода</th>\n",
       "    </tr>\n",
       "  </thead>\n",
       "  <tbody>\n",
       "    <tr>\n",
       "      <th>0</th>\n",
       "      <td>https://auto.ru/cars/used/sale/volvo/s40/11033...</td>\n",
       "      <td>Volvo</td>\n",
       "      <td>1 июня</td>\n",
       "      <td>230 000 ₽</td>\n",
       "      <td>Volvo S40 I Рестайлинг</td>\n",
       "      <td>YV1**************</td>\n",
       "      <td>435 (116 сегодня)</td>\n",
       "      <td>3 или более</td>\n",
       "      <td>******|152</td>\n",
       "      <td>1.8 л / 122 л.с. / Бензин</td>\n",
       "      <td>...</td>\n",
       "      <td>Левый</td>\n",
       "      <td>Не требует ремонта</td>\n",
       "      <td>Растаможен</td>\n",
       "      <td>серый</td>\n",
       "      <td>2002</td>\n",
       "      <td>NaN</td>\n",
       "      <td>NaN</td>\n",
       "      <td>NaN</td>\n",
       "      <td>NaN</td>\n",
       "      <td>NaN</td>\n",
       "    </tr>\n",
       "    <tr>\n",
       "      <th>1</th>\n",
       "      <td>https://auto.ru/cars/used/sale/hyundai/i40/110...</td>\n",
       "      <td>Hyundai</td>\n",
       "      <td>26 мая</td>\n",
       "      <td>1 130 000 ₽</td>\n",
       "      <td>Hyundai i40 I Рестайлинг</td>\n",
       "      <td>XWE**************</td>\n",
       "      <td>582 (66 сегодня)</td>\n",
       "      <td>2 владельца</td>\n",
       "      <td>******|777</td>\n",
       "      <td>2.0 л / 150 л.с. / Бензин</td>\n",
       "      <td>...</td>\n",
       "      <td>Левый</td>\n",
       "      <td>Не требует ремонта</td>\n",
       "      <td>Растаможен</td>\n",
       "      <td>коричневый</td>\n",
       "      <td>2016</td>\n",
       "      <td>NaN</td>\n",
       "      <td>NaN</td>\n",
       "      <td>NaN</td>\n",
       "      <td>NaN</td>\n",
       "      <td>NaN</td>\n",
       "    </tr>\n",
       "  </tbody>\n",
       "</table>\n",
       "<p>2 rows × 26 columns</p>\n",
       "</div>"
      ],
      "text/plain": [
       "                                                Link     Mark Placement_date  \\\n",
       "0  https://auto.ru/cars/used/sale/volvo/s40/11033...    Volvo         1 июня   \n",
       "1  https://auto.ru/cars/used/sale/hyundai/i40/110...  Hyundai         26 мая   \n",
       "\n",
       "         Price                     Title                VIN  \\\n",
       "0    230 000 ₽    Volvo S40 I Рестайлинг  YV1**************   \n",
       "1  1 130 000 ₽  Hyundai i40 I Рестайлинг  XWE**************   \n",
       "\n",
       "               Views    Владельцы    Госномер                  Двигатель  ...  \\\n",
       "0  435 (116 сегодня)  3 или более  ******|152  1.8 л / 122 л.с. / Бензин  ...   \n",
       "1   582 (66 сегодня)  2 владельца  ******|777  2.0 л / 150 л.с. / Бензин  ...   \n",
       "\n",
       "    Руль           Состояние     Таможня        Цвет год выпуска Владение  \\\n",
       "0  Левый  Не требует ремонта  Растаможен       серый        2002      NaN   \n",
       "1  Левый  Не требует ремонта  Растаможен  коричневый        2016      NaN   \n",
       "\n",
       "  Кузов № Обмен Гарантия Запас хода  \n",
       "0     NaN   NaN      NaN        NaN  \n",
       "1     NaN   NaN      NaN        NaN  \n",
       "\n",
       "[2 rows x 26 columns]"
      ]
     },
     "execution_count": 440,
     "metadata": {},
     "output_type": "execute_result"
    }
   ],
   "source": [
    "cars_data1 = pd.read_csv('cars_data.csv',delimiter='\\t') \n",
    "cars_data1.head(2)"
   ]
  },
  {
   "cell_type": "markdown",
   "id": "e88c37cb",
   "metadata": {},
   "source": [
    "Смотрим в каких столбцах есть пропуски"
   ]
  },
  {
   "cell_type": "code",
   "execution_count": 441,
   "id": "9a57b70d",
   "metadata": {},
   "outputs": [
    {
     "data": {
      "text/plain": [
       "Link                0\n",
       "Mark                0\n",
       "Placement_date      0\n",
       "Price               0\n",
       "Title               0\n",
       "VIN                 3\n",
       "Views               0\n",
       "Владельцы           0\n",
       "Госномер          268\n",
       "Двигатель           0\n",
       "Коробка             0\n",
       "Кузов               0\n",
       "Налог               7\n",
       "ПТС                 0\n",
       "Привод              0\n",
       "Пробег              0\n",
       "Руль                0\n",
       "Состояние           0\n",
       "Таможня             0\n",
       "Цвет                0\n",
       "год выпуска         0\n",
       "Владение          300\n",
       "Кузов №           358\n",
       "Обмен             131\n",
       "Гарантия          304\n",
       "Запас хода        355\n",
       "dtype: int64"
      ]
     },
     "execution_count": 441,
     "metadata": {},
     "output_type": "execute_result"
    }
   ],
   "source": [
    "cars_data1.isna().sum()"
   ]
  },
  {
   "cell_type": "markdown",
   "id": "275891fd",
   "metadata": {},
   "source": [
    "Удаляем столбцы, в которых слишком много пропусков"
   ]
  },
  {
   "cell_type": "code",
   "execution_count": 442,
   "id": "2007f0f1",
   "metadata": {},
   "outputs": [
    {
     "data": {
      "text/plain": [
       "['Госномер', 'Владение', 'Кузов №', 'Гарантия', 'Запас хода']"
      ]
     },
     "execution_count": 442,
     "metadata": {},
     "output_type": "execute_result"
    }
   ],
   "source": [
    "drop_list = list() \n",
    "for i in range(len(cars_data1.isna().sum().values)):\n",
    "    if cars_data1.isna().sum().values[i] / cars_data1.shape[0] > 0.7:\n",
    "        drop_list.append(cars_data1.isna().sum().index[i])\n",
    "cars_data1.drop(columns=drop_list, inplace=True)\n",
    "drop_list"
   ]
  },
  {
   "cell_type": "markdown",
   "id": "13a7b6b6",
   "metadata": {},
   "source": [
    "Корректируем столбцы, где хранятся числовые данные"
   ]
  },
  {
   "cell_type": "code",
   "execution_count": 443,
   "id": "e3e98d1d",
   "metadata": {},
   "outputs": [],
   "source": [
    "def money_correcter(raw):\n",
    "    try:\n",
    "        raw = raw.replace(' ', '')\n",
    "        raw = raw[:raw.find('₽')]\n",
    "        return raw\n",
    "    except:\n",
    "        return raw\n",
    "\n",
    "def probeg_correcter(raw):\n",
    "    try:\n",
    "        raw = raw.replace(' ', '')\n",
    "        raw = raw[:raw.find('км')]\n",
    "        return raw\n",
    "    except:\n",
    "        return raw"
   ]
  },
  {
   "cell_type": "code",
   "execution_count": 444,
   "id": "a23e5d2d",
   "metadata": {},
   "outputs": [],
   "source": [
    "cars_data1['Налог'] = cars_data1['Налог'].apply(money_correcter)\n",
    "cars_data1['Price'] = cars_data1['Price'].apply(money_correcter)\n",
    "cars_data1['Пробег'] = cars_data1['Пробег'].apply(probeg_correcter)"
   ]
  },
  {
   "cell_type": "code",
   "execution_count": 445,
   "id": "a5bf29cf",
   "metadata": {},
   "outputs": [],
   "source": [
    "cars_data1['Налог'] = pd.to_numeric(cars_data1['Налог'])\n",
    "cars_data1['Price'] = pd.to_numeric(cars_data1['Price'])\n",
    "cars_data1['год выпуска'] = pd.to_numeric(cars_data1['год выпуска'])\n",
    "cars_data1['Пробег'] = pd.to_numeric(cars_data1['Пробег'])"
   ]
  },
  {
   "cell_type": "markdown",
   "id": "9c42c9cc",
   "metadata": {},
   "source": [
    "Оставшиеся пропуски заполняем\n",
    "\n",
    "Вин заменим пустыми строками"
   ]
  },
  {
   "cell_type": "code",
   "execution_count": 446,
   "id": "85a13dda",
   "metadata": {},
   "outputs": [],
   "source": [
    "cars_data1['VIN'] = cars_data1['VIN'].fillna('')"
   ]
  },
  {
   "cell_type": "markdown",
   "id": "d61d731b",
   "metadata": {},
   "source": [
    "Налог на среднее значение"
   ]
  },
  {
   "cell_type": "code",
   "execution_count": 447,
   "id": "0f5984bd",
   "metadata": {},
   "outputs": [],
   "source": [
    "cars_data1['Налог'] = cars_data1['Налог'].fillna(cars_data1['Налог'].mean())"
   ]
  },
  {
   "cell_type": "markdown",
   "id": "18f656d1",
   "metadata": {},
   "source": [
    "Обмен на самое частовстречаемое значение"
   ]
  },
  {
   "cell_type": "code",
   "execution_count": 525,
   "id": "551fd172",
   "metadata": {},
   "outputs": [],
   "source": [
    "cars_data1[\"Обмен\"].fillna(cars_data1['Обмен'].value_counts().index[0], inplace = True)"
   ]
  },
  {
   "cell_type": "markdown",
   "id": "6f4c814c",
   "metadata": {},
   "source": [
    "Пропусков стало меньше"
   ]
  },
  {
   "cell_type": "code",
   "execution_count": 526,
   "id": "e5f4a151",
   "metadata": {},
   "outputs": [
    {
     "data": {
      "text/plain": [
       "Link              0\n",
       "Mark              0\n",
       "Placement_date    0\n",
       "Price             0\n",
       "Title             0\n",
       "VIN               0\n",
       "Views             0\n",
       "Владельцы         0\n",
       "Двигатель         0\n",
       "Коробка           0\n",
       "Кузов             0\n",
       "Налог             0\n",
       "ПТС               0\n",
       "Привод            0\n",
       "Пробег            0\n",
       "Руль              0\n",
       "Состояние         0\n",
       "Таможня           0\n",
       "Цвет              0\n",
       "год выпуска       0\n",
       "Обмен             0\n",
       "Возраст           0\n",
       "Пробег за год     0\n",
       "Total views       0\n",
       "dtype: int64"
      ]
     },
     "execution_count": 526,
     "metadata": {},
     "output_type": "execute_result"
    }
   ],
   "source": [
    "cars_data1.isna().sum()"
   ]
  },
  {
   "cell_type": "markdown",
   "id": "1e675b69",
   "metadata": {},
   "source": [
    "## Новые признаки ##"
   ]
  },
  {
   "cell_type": "code",
   "execution_count": 471,
   "id": "68a65fd8",
   "metadata": {},
   "outputs": [],
   "source": [
    "def age_definer(car_year):\n",
    "    current_year = datetime.now().timetuple()[0]\n",
    "    if current_year - car_year < 3:\n",
    "        return 'Новая'\n",
    "    if current_year - car_year < 6:\n",
    "        return 'Средняя'\n",
    "    else:\n",
    "        return 'Старая'\n",
    "\n",
    "def km_per_year(car_year, car_mileage):\n",
    "    try:\n",
    "        current_year = datetime.now().timetuple()[0]\n",
    "        return car_mileage // (current_year - car_year + 1)\n",
    "    except:\n",
    "        return None\n",
    "\n",
    "def total_views_definer(raw):\n",
    "    try:\n",
    "        return raw[:raw.find(' ')]\n",
    "    except:\n",
    "        return None"
   ]
  },
  {
   "cell_type": "markdown",
   "id": "32854de4",
   "metadata": {},
   "source": [
    "Присваиваем категории возраста для автомобиля"
   ]
  },
  {
   "cell_type": "code",
   "execution_count": 450,
   "id": "4596d4be",
   "metadata": {},
   "outputs": [
    {
     "data": {
      "text/plain": [
       "0     Старая\n",
       "1    Средняя\n",
       "2     Старая\n",
       "3     Старая\n",
       "4    Средняя\n",
       "5      Новая\n",
       "Name: Возраст, dtype: object"
      ]
     },
     "execution_count": 450,
     "metadata": {},
     "output_type": "execute_result"
    }
   ],
   "source": [
    "cars_data1['Возраст'] = cars_data1['год выпуска'].apply(age_definer)\n",
    "cars_data1['Возраст'][:6]"
   ]
  },
  {
   "cell_type": "markdown",
   "id": "ef0b2439",
   "metadata": {},
   "source": [
    "Присваем категорию сколько автомобиль ездил в среднем за год своего существования"
   ]
  },
  {
   "cell_type": "code",
   "execution_count": 451,
   "id": "4cc73c88",
   "metadata": {},
   "outputs": [
    {
     "data": {
      "text/plain": [
       "0    18000\n",
       "1    13550\n",
       "2      416\n",
       "3     8666\n",
       "4     4200\n",
       "5       10\n",
       "Name: Пробег за год, dtype: int64"
      ]
     },
     "execution_count": 451,
     "metadata": {},
     "output_type": "execute_result"
    }
   ],
   "source": [
    "cars_data1['Пробег за год'] = cars_data1[['год выпуска','Пробег']].apply(lambda x: km_per_year(*x), axis=1)\n",
    "cars_data1['Пробег за год'][:6]"
   ]
  },
  {
   "cell_type": "markdown",
   "id": "c8c87014",
   "metadata": {},
   "source": [
    "Делаем категорию с общим числов просмотров автомобиля (до этого в столбце было строка вида *435 (116 сегодня)*)"
   ]
  },
  {
   "cell_type": "code",
   "execution_count": 473,
   "id": "7ada1ef4",
   "metadata": {},
   "outputs": [
    {
     "data": {
      "text/plain": [
       "0     435\n",
       "1     582\n",
       "2     754\n",
       "3    2462\n",
       "4       3\n",
       "5       1\n",
       "Name: Total views, dtype: int64"
      ]
     },
     "execution_count": 473,
     "metadata": {},
     "output_type": "execute_result"
    }
   ],
   "source": [
    "cars_data1['Total views'] = pd.to_numeric(cars_data1['Views'].apply(total_views_definer))\n",
    "cars_data1['Total views'][:6]"
   ]
  },
  {
   "cell_type": "markdown",
   "id": "9e131a7e",
   "metadata": {},
   "source": [
    "## Графики ##"
   ]
  },
  {
   "cell_type": "code",
   "execution_count": 452,
   "id": "f9a4c68b",
   "metadata": {},
   "outputs": [],
   "source": [
    "import matplotlib\n",
    "import matplotlib.pyplot as plt\n",
    "import numpy as np"
   ]
  },
  {
   "cell_type": "markdown",
   "id": "d3f186fb",
   "metadata": {},
   "source": [
    "Сделаем график распределения машин по возрастным категориям в рамках фирмы. \n",
    "Построим для топ 3 фирм по числу объявлений, чтобы не нагромождать график."
   ]
  },
  {
   "cell_type": "code",
   "execution_count": 453,
   "id": "4dc7d1cb",
   "metadata": {},
   "outputs": [],
   "source": [
    "def autolabel(rects):\n",
    "    for rect in rects:\n",
    "        height = rect.get_height()\n",
    "        ax.annotate('{}'.format(height),\n",
    "                    xy=(rect.get_x() + rect.get_width() / 2, height),\n",
    "                    xytext=(0, 3),\n",
    "                    textcoords=\"offset points\",\n",
    "                    ha='center', va='bottom')"
   ]
  },
  {
   "cell_type": "code",
   "execution_count": 457,
   "id": "23efabff",
   "metadata": {},
   "outputs": [
    {
     "data": {
      "image/png": "[encoded data removed]",
      "text/plain": [
       "<Figure size 432x288 with 1 Axes>"
      ]
     },
     "metadata": {
      "needs_background": "light"
     },
     "output_type": "display_data"
    }
   ],
   "source": [
    "ser = cars_data1['Mark'].value_counts()\n",
    "mark_list = ser.iloc[:3].index.tolist()\n",
    "grouped_data = cars_data1[cars_data1['Mark'].isin(mark_list)].groupby(['Mark', 'Возраст']).size()\n",
    "\n",
    "all_marks = grouped_data.to_frame().reset_index()\n",
    "first_mark = all_marks[all_marks['Mark'] == ser.iloc[:3].index.tolist()[0]]\n",
    "second_mark = all_marks[all_marks['Mark'] == ser.iloc[:3].index.tolist()[1]]\n",
    "third_mark = all_marks[all_marks['Mark'] == ser.iloc[:3].index.tolist()[2]]\n",
    "\n",
    "first_name = first_mark['Mark'].values[0]\n",
    "second_name = second_mark['Mark'].values[0]\n",
    "third_name = third_mark['Mark'].values[0]\n",
    "\n",
    "labels = first_mark['Возраст'].tolist()\n",
    "\n",
    "first_mark = first_mark[0].tolist()\n",
    "second_mark = second_mark[0].tolist()\n",
    "third_mark = third_mark[0].tolist()\n",
    "\n",
    "\n",
    "x = np.arange(len(labels))\n",
    "width = 0.2 \n",
    "\n",
    "fig, ax = plt.subplots()\n",
    "rects1 = ax.bar(x - width, first_mark, width, label=first_name)\n",
    "rects2 = ax.bar(x, second_mark, width, label=second_name)\n",
    "rects3 = ax.bar(x + width, third_mark, width, label=third_name)\n",
    "\n",
    "ax.set_ylabel('Количество машин')\n",
    "ax.set_title('Количество машин в разных возрастных категориях')\n",
    "ax.set_xticks(x)\n",
    "ax.set_xticklabels(labels)\n",
    "ax.legend()\n",
    "\n",
    "autolabel(rects1)\n",
    "autolabel(rects2)\n",
    "autolabel(rects3)\n",
    "\n",
    "fig.tight_layout()\n",
    "\n",
    "plt.show()"
   ]
  },
  {
   "cell_type": "markdown",
   "id": "99419f44",
   "metadata": {},
   "source": [
    "Посмотрим, какую долю объвлений занимает каждая фирма автомобилей. \n",
    "Подпишем в процентном соотношении, предварительно удалив те, у которых доля объявлений меньше 3% от общего числа, чтобы не нагромождать график"
   ]
  },
  {
   "cell_type": "code",
   "execution_count": 458,
   "id": "152bc769",
   "metadata": {},
   "outputs": [
    {
     "data": {
      "image/png": "[encoded data removed]",
      "text/plain": [
       "<Figure size 432x432 with 1 Axes>"
      ]
     },
     "metadata": {},
     "output_type": "display_data"
    }
   ],
   "source": [
    "cars_data1['Mark'].value_counts().loc[lambda ser: ser / cars_data1.shape[0] > 0.03].plot.pie(label=\"\", title=\"Соотношение продаваемых машин по маркам\", autopct='%.2f', figsize=(6, 6));"
   ]
  },
  {
   "cell_type": "markdown",
   "id": "bf09d405",
   "metadata": {},
   "source": [
    "## Группировки"
   ]
  },
  {
   "cell_type": "markdown",
   "id": "a0b7c781",
   "metadata": {},
   "source": [
    "Распределение по возрастным категориям для топ 5 фирм по числу объявлений, чтобы не нагромождать вывод"
   ]
  },
  {
   "cell_type": "code",
   "execution_count": 461,
   "id": "4422098a",
   "metadata": {},
   "outputs": [
    {
     "data": {
      "text/plain": [
       "Mark           Возраст\n",
       "Audi           Новая       2\n",
       "               Средняя     4\n",
       "               Старая     15\n",
       "BMW            Новая       7\n",
       "               Средняя     5\n",
       "               Старая      7\n",
       "Mercedes-Benz  Новая      21\n",
       "               Средняя    21\n",
       "               Старая     31\n",
       "Nissan         Новая       1\n",
       "               Средняя     1\n",
       "               Старая     23\n",
       "Toyota         Новая       1\n",
       "               Средняя     6\n",
       "               Старая     14\n",
       "dtype: int64"
      ]
     },
     "execution_count": 461,
     "metadata": {},
     "output_type": "execute_result"
    }
   ],
   "source": [
    "ser = cars_data1['Mark'].value_counts()\n",
    "mark_list = ser.iloc[:5].index.tolist()\n",
    "grouped_data = cars_data1[cars_data1['Mark'].isin(mark_list)].groupby(['Mark', 'Возраст']).size()\n",
    "grouped_data"
   ]
  },
  {
   "cell_type": "markdown",
   "id": "c08d0747",
   "metadata": {},
   "source": [
    "Посмотрим информацию по пробегу за год для всех автомобилей"
   ]
  },
  {
   "cell_type": "code",
   "execution_count": 462,
   "id": "179520af",
   "metadata": {},
   "outputs": [
    {
     "data": {
      "text/plain": [
       "count      360.000000\n",
       "mean     10997.636111\n",
       "std       5776.515145\n",
       "min          7.000000\n",
       "25%       7455.250000\n",
       "50%      10851.500000\n",
       "75%      14264.750000\n",
       "max      43750.000000\n",
       "Name: Пробег за год, dtype: float64"
      ]
     },
     "execution_count": 462,
     "metadata": {},
     "output_type": "execute_result"
    }
   ],
   "source": [
    "cars_data1['Пробег за год'].describe()"
   ]
  },
  {
   "cell_type": "markdown",
   "id": "fd10c14c",
   "metadata": {},
   "source": [
    "Посмотрим зависимость пробега машины от числа ее владельцев"
   ]
  },
  {
   "cell_type": "code",
   "execution_count": 465,
   "id": "15948488",
   "metadata": {},
   "outputs": [
    {
     "data": {
      "text/plain": [
       "Владельцы\n",
       "1 владелец      71355.220690\n",
       "2 владельца     95178.633929\n",
       "3 или более    119039.427184\n",
       "Name: Пробег, dtype: float64"
      ]
     },
     "execution_count": 465,
     "metadata": {},
     "output_type": "execute_result"
    }
   ],
   "source": [
    "cars_data1.groupby(['Владельцы']).mean()['Пробег']"
   ]
  },
  {
   "cell_type": "markdown",
   "id": "bd813e60",
   "metadata": {},
   "source": [
    "Как видно, чем больше владельцев было у машины, тем больше ее пробег"
   ]
  },
  {
   "cell_type": "markdown",
   "id": "d52249fd",
   "metadata": {},
   "source": [
    "Посмотрим на зависимости состояния машины от числа ее владельцев"
   ]
  },
  {
   "cell_type": "code",
   "execution_count": 466,
   "id": "49ce8945",
   "metadata": {},
   "outputs": [
    {
     "data": {
      "text/plain": [
       "Владельцы    Состояние         \n",
       "1 владелец   Не требует ремонта    145\n",
       "2 владельца  Не требует ремонта    112\n",
       "3 или более  Не требует ремонта    103\n",
       "dtype: int64"
      ]
     },
     "execution_count": 466,
     "metadata": {},
     "output_type": "execute_result"
    }
   ],
   "source": [
    "cars_data1.groupby(['Владельцы', 'Состояние']).size()"
   ]
  },
  {
   "cell_type": "markdown",
   "id": "2da44f89",
   "metadata": {},
   "source": [
    "Эти данные ничего нам не дали"
   ]
  },
  {
   "cell_type": "markdown",
   "id": "cee460bb",
   "metadata": {},
   "source": [
    "Посмотрим на общее число просмотров объявлений в рамках фирмы. Вывели топ 5, чтобы не нагромождать вывод"
   ]
  },
  {
   "cell_type": "code",
   "execution_count": 516,
   "id": "b4f6541f",
   "metadata": {},
   "outputs": [
    {
     "data": {
      "text/plain": [
       "Mark\n",
       "Mercedes-Benz    16888\n",
       "Nissan           11965\n",
       "BMW               6120\n",
       "Audi              6031\n",
       "Toyota            4461\n",
       "Name: Total views, dtype: int64"
      ]
     },
     "execution_count": 516,
     "metadata": {},
     "output_type": "execute_result"
    }
   ],
   "source": [
    "ser = cars_data1['Mark'].value_counts()\n",
    "mark_list = ser.iloc[:5].index.tolist()\n",
    "grouped_data = cars_data1[cars_data1['Mark'].isin(mark_list)].groupby(['Mark']).sum()['Total views'].sort_values(ascending=False)\n",
    "grouped_data"
   ]
  },
  {
   "cell_type": "markdown",
   "id": "16db1c1a",
   "metadata": {},
   "source": [
    "Как видно, мерседес сильно лидирует\n",
    "Посмотрим также в процентах"
   ]
  },
  {
   "cell_type": "code",
   "execution_count": 517,
   "id": "bd0f43da",
   "metadata": {},
   "outputs": [
    {
     "data": {
      "text/plain": [
       "Mark\n",
       "Mercedes-Benz    37.145057\n",
       "Nissan           26.316947\n",
       "BMW              13.460904\n",
       "Audi             13.265149\n",
       "Toyota            9.811943\n",
       "Name: Total views, dtype: float64"
      ]
     },
     "execution_count": 517,
     "metadata": {},
     "output_type": "execute_result"
    }
   ],
   "source": [
    "grouped_data.to_frame()['Total views'] / grouped_data.sum() * 100"
   ]
  },
  {
   "cell_type": "markdown",
   "id": "cd990544",
   "metadata": {},
   "source": [
    "Как видно, более трети объявлений приходится на мерседес!"
   ]
  }
 ],
 "metadata": {
  "kernelspec": {
   "display_name": "Python 3",
   "language": "python",
   "name": "python3"
  },
  "language_info": {
   "codemirror_mode": {
    "name": "ipython",
    "version": 3
   },
   "file_extension": ".py",
   "mimetype": "text/x-python",
   "name": "python",
   "nbconvert_exporter": "python",
   "pygments_lexer": "ipython3",
   "version": "3.8.8"
  }
 },
 "nbformat": 4,
 "nbformat_minor": 5
}
